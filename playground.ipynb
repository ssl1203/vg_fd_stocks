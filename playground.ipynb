{
 "cells": [
  {
   "cell_type": "code",
   "execution_count": 17,
   "metadata": {},
   "outputs": [
    {
     "name": "stdout",
     "output_type": "stream",
     "text": [
      "143.68945656966488\n"
     ]
    }
   ],
   "source": [
    "import math\n",
    "def exp(x):\n",
    "    return sum([x**n/math.factorial(n) for n in range(0,10)])\n",
    "\n",
    "xx = exp(5)\n",
    "\n",
    "print(xx)\n"
   ]
  },
  {
   "cell_type": "code",
   "execution_count": 20,
   "metadata": {},
   "outputs": [
    {
     "name": "stdout",
     "output_type": "stream",
     "text": [
      "[0, 1, 2, 3, 4] 10\n"
     ]
    }
   ],
   "source": [
    "import math\n",
    "def aaa(x):\n",
    "    return [i for i in range(5)]\n",
    "\n",
    "print(aaa(3), sum(aaa(3)))"
   ]
  },
  {
   "cell_type": "code",
   "execution_count": 21,
   "metadata": {},
   "outputs": [
    {
     "name": "stdout",
     "output_type": "stream",
     "text": [
      "['P', 'P', 'P', 'P', 'P', 'P', 'P', 'P', 'P', 'P']\n"
     ]
    }
   ],
   "source": [
    "arr_str = ['P'] * 10\n",
    "print(arr_str)"
   ]
  }
 ],
 "metadata": {
  "kernelspec": {
   "display_name": "Python 3",
   "language": "python",
   "name": "python3"
  },
  "language_info": {
   "codemirror_mode": {
    "name": "ipython",
    "version": 3
   },
   "file_extension": ".py",
   "mimetype": "text/x-python",
   "name": "python",
   "nbconvert_exporter": "python",
   "pygments_lexer": "ipython3",
   "version": "3.9.6"
  },
  "orig_nbformat": 4
 },
 "nbformat": 4,
 "nbformat_minor": 2
}
